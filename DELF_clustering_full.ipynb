{
 "cells": [
  {
   "cell_type": "code",
   "execution_count": 1,
   "metadata": {
    "collapsed": true
   },
   "outputs": [],
   "source": [
    "#DELF is here \"https://github.com/tensorflow/models/tree/master/research/delf\""
   ]
  },
  {
   "cell_type": "code",
   "execution_count": 2,
   "metadata": {
    "collapsed": true
   },
   "outputs": [],
   "source": [
    "import numpy as np\n",
    "from sklearn.cluster import AgglomerativeClustering, KMeans, MiniBatchKMeans\n",
    "import pandas as pd\n",
    "from sklearn.neighbors import NearestNeighbors"
   ]
  },
  {
   "cell_type": "code",
   "execution_count": 176,
   "metadata": {
    "collapsed": true
   },
   "outputs": [],
   "source": [
    "# var1 = np.load('train_for_clusters.npy')\n",
    "# var2 = np.load('train_for_clusters2.npy')\n",
    "# var3 = np.load('train_for_clusters3.npy')\n",
    "# var4 = np.load('train_for_clusters4.npy')\n",
    "\n",
    "# var = np.vstack((var1, var2, var3, var4))\n",
    "\n",
    "# var.shape"
   ]
  },
  {
   "cell_type": "code",
   "execution_count": 2,
   "metadata": {
    "collapsed": true
   },
   "outputs": [],
   "source": [
    "# clusters = KMeans(n_clusters=100, n_jobs=-1)\n",
    "# clusters.fit(var[:100000])"
   ]
  },
  {
   "cell_type": "code",
   "execution_count": 3,
   "metadata": {},
   "outputs": [
    {
     "name": "stderr",
     "output_type": "stream",
     "text": [
      "/home/users/daria_pugacheva/anaconda2/lib/python2.7/site-packages/h5py/__init__.py:36: FutureWarning: Conversion of the second argument of issubdtype from `float` to `np.floating` is deprecated. In future, it will be treated as `np.float64 == np.dtype(float).type`.\n",
      "  from ._conv import register_converters as _register_converters\n"
     ]
    }
   ],
   "source": [
    "import random\n",
    "import os\n",
    "from delf import feature_io"
   ]
  },
  {
   "cell_type": "code",
   "execution_count": 4,
   "metadata": {
    "collapsed": true
   },
   "outputs": [],
   "source": [
    "#read initial data\n",
    "data = pd.read_csv('input/new_train.csv')"
   ]
  },
  {
   "cell_type": "code",
   "execution_count": 5,
   "metadata": {
    "collapsed": true
   },
   "outputs": [],
   "source": [
    "data.drop('Unnamed: 0', axis=1, inplace=True)"
   ]
  },
  {
   "cell_type": "code",
   "execution_count": 6,
   "metadata": {
    "collapsed": true
   },
   "outputs": [],
   "source": [
    "#select all clusses with from 10 to 15 images\n",
    "index = data.landmark_id.value_counts()[data.landmark_id.value_counts() > 10][data.landmark_id.value_counts() < 15].index"
   ]
  },
  {
   "cell_type": "code",
   "execution_count": 36,
   "metadata": {},
   "outputs": [
    {
     "data": {
      "text/plain": [
       "(12279,)"
      ]
     },
     "execution_count": 36,
     "metadata": {},
     "output_type": "execute_result"
    }
   ],
   "source": [
    "# data.landmark_id.value_counts()[data.landmark_id.value_counts() < 15].shape"
   ]
  },
  {
   "cell_type": "code",
   "execution_count": 51,
   "metadata": {
    "collapsed": true
   },
   "outputs": [],
   "source": [
    "#sample 500 of them\n",
    "classes = random.sample(set(index), 500)"
   ]
  },
  {
   "cell_type": "code",
   "execution_count": 52,
   "metadata": {
    "collapsed": true
   },
   "outputs": [],
   "source": [
    "#create new dataset\n",
    "new_data = data[data.landmark_id.map(lambda x: x in classes)]"
   ]
  },
  {
   "cell_type": "code",
   "execution_count": 53,
   "metadata": {},
   "outputs": [
    {
     "data": {
      "text/html": [
       "<div>\n",
       "<style scoped>\n",
       "    .dataframe tbody tr th:only-of-type {\n",
       "        vertical-align: middle;\n",
       "    }\n",
       "\n",
       "    .dataframe tbody tr th {\n",
       "        vertical-align: top;\n",
       "    }\n",
       "\n",
       "    .dataframe thead th {\n",
       "        text-align: right;\n",
       "    }\n",
       "</style>\n",
       "<table border=\"1\" class=\"dataframe\">\n",
       "  <thead>\n",
       "    <tr style=\"text-align: right;\">\n",
       "      <th></th>\n",
       "      <th>id</th>\n",
       "      <th>url</th>\n",
       "      <th>landmark_id</th>\n",
       "    </tr>\n",
       "  </thead>\n",
       "  <tbody>\n",
       "    <tr>\n",
       "      <th>4</th>\n",
       "      <td>1aebc94ed4be585f</td>\n",
       "      <td>http://mw2.google.com/mw-panoramio/photos/medi...</td>\n",
       "      <td>5754</td>\n",
       "    </tr>\n",
       "    <tr>\n",
       "      <th>6</th>\n",
       "      <td>f740d60b7d019f39</td>\n",
       "      <td>http://lh3.ggpht.com/-9sLKczTrbPE/RhcDAoUNlWI/...</td>\n",
       "      <td>14504</td>\n",
       "    </tr>\n",
       "    <tr>\n",
       "      <th>12</th>\n",
       "      <td>9fdd21bec8263e65</td>\n",
       "      <td>https://lh5.googleusercontent.com/-xYyQs5tPyrE...</td>\n",
       "      <td>14436</td>\n",
       "    </tr>\n",
       "    <tr>\n",
       "      <th>13</th>\n",
       "      <td>56992ff730cbcb6e</td>\n",
       "      <td>https://lh3.googleusercontent.com/-D685-H3cC7Y...</td>\n",
       "      <td>10878</td>\n",
       "    </tr>\n",
       "    <tr>\n",
       "      <th>17</th>\n",
       "      <td>4f87b4a8c7415c84</td>\n",
       "      <td>http://mw2.google.com/mw-panoramio/photos/medi...</td>\n",
       "      <td>11282</td>\n",
       "    </tr>\n",
       "  </tbody>\n",
       "</table>\n",
       "</div>"
      ],
      "text/plain": [
       "                  id                                                url  \\\n",
       "4   1aebc94ed4be585f  http://mw2.google.com/mw-panoramio/photos/medi...   \n",
       "6   f740d60b7d019f39  http://lh3.ggpht.com/-9sLKczTrbPE/RhcDAoUNlWI/...   \n",
       "12  9fdd21bec8263e65  https://lh5.googleusercontent.com/-xYyQs5tPyrE...   \n",
       "13  56992ff730cbcb6e  https://lh3.googleusercontent.com/-D685-H3cC7Y...   \n",
       "17  4f87b4a8c7415c84  http://mw2.google.com/mw-panoramio/photos/medi...   \n",
       "\n",
       "    landmark_id  \n",
       "4          5754  \n",
       "6         14504  \n",
       "12        14436  \n",
       "13        10878  \n",
       "17        11282  "
      ]
     },
     "execution_count": 53,
     "metadata": {},
     "output_type": "execute_result"
    }
   ],
   "source": [
    "new_data.head()"
   ]
  },
  {
   "cell_type": "code",
   "execution_count": 54,
   "metadata": {},
   "outputs": [
    {
     "data": {
      "text/plain": [
       "(24322, 3)"
      ]
     },
     "execution_count": 54,
     "metadata": {},
     "output_type": "execute_result"
    }
   ],
   "source": [
    "new_data.shape"
   ]
  },
  {
   "cell_type": "code",
   "execution_count": 46,
   "metadata": {
    "collapsed": true
   },
   "outputs": [],
   "source": [
    "# from collections import Counter\n",
    "# c1 = Counter(new_data.landmark_id.values)\n",
    "\n",
    "#l1 = [el[0] for el in c1.items() if el[1]<8]\n",
    "\n",
    "#d1 = new_data[new_data.landmark_id.map(lambda x: x in l1)]\n",
    "\n",
    "# d1.shape"
   ]
  },
  {
   "cell_type": "code",
   "execution_count": 55,
   "metadata": {
    "collapsed": true
   },
   "outputs": [],
   "source": [
    "from sklearn.model_selection import train_test_split"
   ]
  },
  {
   "cell_type": "code",
   "execution_count": 66,
   "metadata": {
    "collapsed": true
   },
   "outputs": [],
   "source": [
    "#split data to train and test\n",
    "x_train, x_test, y_train, y_test = train_test_split(new_data.drop('landmark_id', axis=1), \n",
    "                                                    new_data.landmark_id, test_size=0.4, stratify=new_data.landmark_id.values)"
   ]
  },
  {
   "cell_type": "code",
   "execution_count": 67,
   "metadata": {},
   "outputs": [
    {
     "data": {
      "text/plain": [
       "7175"
      ]
     },
     "execution_count": 67,
     "metadata": {},
     "output_type": "execute_result"
    }
   ],
   "source": [
    "len(set(y_train))"
   ]
  },
  {
   "cell_type": "code",
   "execution_count": 68,
   "metadata": {},
   "outputs": [
    {
     "data": {
      "text/plain": [
       "7175"
      ]
     },
     "execution_count": 68,
     "metadata": {},
     "output_type": "execute_result"
    }
   ],
   "source": [
    "len(set(y_test))"
   ]
  },
  {
   "cell_type": "code",
   "execution_count": 69,
   "metadata": {
    "collapsed": true
   },
   "outputs": [],
   "source": [
    "#obtain *.delf files names\n",
    "all_train1 = os.listdir('/s/ls4/users/daria_pugacheva/google_landmark/input/train_delf1/') \n",
    "all_train2 = os.listdir('/s/ls4/users/daria_pugacheva/google_landmark/input/train_delf2/')\n",
    "all_train3 = os.listdir('/s/ls4/users/daria_pugacheva/google_landmark/input/train_delf3/') \n",
    "all_train4 = os.listdir('/s/ls4/users/daria_pugacheva/google_landmark/input/train_delf4/')\n",
    "all_train5 = os.listdir('/s/ls4/users/daria_pugacheva/google_landmark/input/train_delf5/')"
   ]
  },
  {
   "cell_type": "code",
   "execution_count": 71,
   "metadata": {
    "collapsed": true
   },
   "outputs": [],
   "source": [
    "#folders with *.delf files\n",
    "all_train = [all_train1, all_train2, all_train3, all_train4, all_train5]\n",
    "train_path = ['/s/ls4/users/daria_pugacheva/google_landmark/input/train_delf1/', \n",
    "        '/s/ls4/users/daria_pugacheva/google_landmark/input/train_delf2/',\n",
    "        '/s/ls4/users/daria_pugacheva/google_landmark/input/train_delf3/', \n",
    "        '/s/ls4/users/daria_pugacheva/google_landmark/input/train_delf4/', \n",
    "        '/s/ls4/users/daria_pugacheva/google_landmark/input/train_delf5/']"
   ]
  },
  {
   "cell_type": "code",
   "execution_count": 72,
   "metadata": {
    "collapsed": true
   },
   "outputs": [],
   "source": [
    "#full paths for train and test files\n",
    "all_train_path = []\n",
    "for i in range(len(all_train)):\n",
    "    all_train_path += [train_path[i] + elem for elem in all_train[i] if (elem[:-5] in x_train.id.values)]"
   ]
  },
  {
   "cell_type": "code",
   "execution_count": 73,
   "metadata": {},
   "outputs": [
    {
     "data": {
      "text/plain": [
       "14522"
      ]
     },
     "execution_count": 73,
     "metadata": {},
     "output_type": "execute_result"
    }
   ],
   "source": [
    "len(all_train_path)"
   ]
  },
  {
   "cell_type": "code",
   "execution_count": 74,
   "metadata": {},
   "outputs": [
    {
     "data": {
      "text/plain": [
       "(14593, 2)"
      ]
     },
     "execution_count": 74,
     "metadata": {},
     "output_type": "execute_result"
    }
   ],
   "source": [
    "x_train.shape"
   ]
  },
  {
   "cell_type": "code",
   "execution_count": 76,
   "metadata": {
    "collapsed": true
   },
   "outputs": [],
   "source": [
    "all_val_path = []\n",
    "for i in range(len(all_train)):\n",
    "    all_val_path += [train_path[i] + elem for elem in all_train[i] if\n",
    "                      (elem[:-5] in x_test.id.values)]"
   ]
  },
  {
   "cell_type": "code",
   "execution_count": 77,
   "metadata": {},
   "outputs": [
    {
     "data": {
      "text/plain": [
       "9674"
      ]
     },
     "execution_count": 77,
     "metadata": {},
     "output_type": "execute_result"
    }
   ],
   "source": [
    "len(all_val_path)"
   ]
  },
  {
   "cell_type": "code",
   "execution_count": 162,
   "metadata": {},
   "outputs": [
    {
     "data": {
      "text/plain": [
       "'/s/ls4/users/daria_pugacheva/google_landmark/input/train_delf2/c33dbcce39fe1e29.delf'"
      ]
     },
     "execution_count": 162,
     "metadata": {},
     "output_type": "execute_result"
    }
   ],
   "source": [
    "all_train_path[200]"
   ]
  },
  {
   "cell_type": "code",
   "execution_count": 78,
   "metadata": {},
   "outputs": [
    {
     "data": {
      "text/plain": [
       "9729"
      ]
     },
     "execution_count": 78,
     "metadata": {},
     "output_type": "execute_result"
    }
   ],
   "source": [
    "len(x_test)"
   ]
  },
  {
   "cell_type": "code",
   "execution_count": 79,
   "metadata": {
    "collapsed": true
   },
   "outputs": [],
   "source": [
    "#extract features from *.delf files\n",
    "train_for_clusters= []#np.array(random.sample(descriptors, 5))\n",
    "train_vectors = []\n",
    "for link in all_train_path:\n",
    "    locations, _, descriptors, _, _ = feature_io.ReadFromFile(link)\n",
    "    train_for_clusters += [elem for elem in descriptors]\n",
    "    train_vectors += [descriptors]"
   ]
  },
  {
   "cell_type": "code",
   "execution_count": 80,
   "metadata": {
    "collapsed": true
   },
   "outputs": [],
   "source": [
    "test_for_clusters= []#np.array(random.sample(descriptors, 5))\n",
    "for link in all_val_path:\n",
    "    locations, _, descriptors, _, _ = feature_io.ReadFromFile(link)\n",
    "    test_for_clusters += [descriptors]"
   ]
  },
  {
   "cell_type": "code",
   "execution_count": 81,
   "metadata": {},
   "outputs": [
    {
     "name": "stderr",
     "output_type": "stream",
     "text": [
      "/home/users/daria_pugacheva/anaconda2/lib/python2.7/site-packages/sklearn/cluster/k_means_.py:1418: RuntimeWarning: init_size=300 should be larger than k=500. Setting it to 3*k\n",
      "  init_size=init_size)\n"
     ]
    },
    {
     "data": {
      "text/plain": [
       "MiniBatchKMeans(batch_size=100, compute_labels=True, init='k-means++',\n",
       "        init_size=None, max_iter=100, max_no_improvement=10,\n",
       "        n_clusters=500, n_init=3, random_state=None,\n",
       "        reassignment_ratio=0.01, tol=0.0, verbose=0)"
      ]
     },
     "execution_count": 81,
     "metadata": {},
     "output_type": "execute_result"
    }
   ],
   "source": [
    "#clusterisation of all train keypoints\n",
    "clusters = MiniBatchKMeans(n_clusters=500)\n",
    "clusters.fit(train_for_clusters)"
   ]
  },
  {
   "cell_type": "code",
   "execution_count": 82,
   "metadata": {
    "collapsed": true
   },
   "outputs": [],
   "source": [
    "centres = clusters.cluster_centers_"
   ]
  },
  {
   "cell_type": "code",
   "execution_count": 83,
   "metadata": {
    "collapsed": true
   },
   "outputs": [],
   "source": [
    "model = NearestNeighbors(n_neighbors=1)"
   ]
  },
  {
   "cell_type": "code",
   "execution_count": 84,
   "metadata": {},
   "outputs": [
    {
     "data": {
      "text/plain": [
       "NearestNeighbors(algorithm='auto', leaf_size=30, metric='minkowski',\n",
       "         metric_params=None, n_jobs=1, n_neighbors=1, p=2, radius=1.0)"
      ]
     },
     "execution_count": 84,
     "metadata": {},
     "output_type": "execute_result"
    }
   ],
   "source": [
    "model.fit(centres)"
   ]
  },
  {
   "cell_type": "code",
   "execution_count": 85,
   "metadata": {
    "collapsed": true
   },
   "outputs": [],
   "source": [
    "from collections import Counter"
   ]
  },
  {
   "cell_type": "code",
   "execution_count": 86,
   "metadata": {
    "collapsed": true
   },
   "outputs": [],
   "source": [
    "#obtain train and test vectors with bag of words\n",
    "words_test = []\n",
    "for image in test_for_clusters:\n",
    "    c = Counter(list(model.kneighbors(image, 1)[1].squeeze()))\n",
    "    words_test += [np.array([c.get(el, 0) for el in range(500)])]"
   ]
  },
  {
   "cell_type": "code",
   "execution_count": 87,
   "metadata": {
    "collapsed": true
   },
   "outputs": [],
   "source": [
    "words_train = []\n",
    "for image in train_vectors:\n",
    "    c = Counter(list(model.kneighbors(image, 1)[1].squeeze()))\n",
    "    words_train += [np.array([c.get(el, 0) for el in range(500)])]"
   ]
  },
  {
   "cell_type": "code",
   "execution_count": 88,
   "metadata": {
    "collapsed": true
   },
   "outputs": [],
   "source": [
    "from sklearn.ensemble import RandomForestClassifier\n",
    "from sklearn.naive_bayes import MultinomialNB"
   ]
  },
  {
   "cell_type": "code",
   "execution_count": 89,
   "metadata": {
    "collapsed": true
   },
   "outputs": [],
   "source": [
    "#check if all *.delf files exist for initial data split and take the correct labels in case..\n",
    "train_y = np.zeros(len(all_train_path))\n",
    "for i in range(len(all_train_path)):\n",
    "    train_y[i] = new_data[new_data.id == all_train_path[i][63:-5]].landmark_id.values"
   ]
  },
  {
   "cell_type": "code",
   "execution_count": 90,
   "metadata": {
    "collapsed": true
   },
   "outputs": [],
   "source": [
    "test_y = np.zeros(len(all_val_path))\n",
    "for i in range(len(all_val_path)):\n",
    "    test_y[i] = new_data[new_data.id == all_val_path[i][63:-5]].landmark_id.values"
   ]
  },
  {
   "cell_type": "code",
   "execution_count": 91,
   "metadata": {
    "collapsed": true
   },
   "outputs": [],
   "source": [
    "#classification\n",
    "bayes = MultinomialNB()"
   ]
  },
  {
   "cell_type": "code",
   "execution_count": 92,
   "metadata": {},
   "outputs": [
    {
     "data": {
      "text/plain": [
       "MultinomialNB(alpha=1.0, class_prior=None, fit_prior=True)"
      ]
     },
     "execution_count": 92,
     "metadata": {},
     "output_type": "execute_result"
    }
   ],
   "source": [
    "bayes.fit(words_train, train_y)"
   ]
  },
  {
   "cell_type": "code",
   "execution_count": 93,
   "metadata": {},
   "outputs": [
    {
     "data": {
      "text/plain": [
       "0.7192474674384949"
      ]
     },
     "execution_count": 93,
     "metadata": {},
     "output_type": "execute_result"
    }
   ],
   "source": [
    "#accuracy\n",
    "bayes.score(words_test, test_y)"
   ]
  },
  {
   "cell_type": "code",
   "execution_count": 104,
   "metadata": {
    "collapsed": true
   },
   "outputs": [],
   "source": [
    "prediction = bayes.predict(words_test)"
   ]
  },
  {
   "cell_type": "code",
   "execution_count": 106,
   "metadata": {
    "collapsed": true
   },
   "outputs": [],
   "source": [
    "from sklearn.metrics import recall_score"
   ]
  },
  {
   "cell_type": "code",
   "execution_count": 111,
   "metadata": {},
   "outputs": [
    {
     "data": {
      "text/plain": [
       "0.7192474674384949"
      ]
     },
     "execution_count": 111,
     "metadata": {},
     "output_type": "execute_result"
    }
   ],
   "source": [
    "#recall\n",
    "\n",
    "recall_score(test_y, prediction, average='micro')"
   ]
  },
  {
   "cell_type": "code",
   "execution_count": 160,
   "metadata": {},
   "outputs": [
    {
     "data": {
      "text/plain": [
       "'/s/ls4/users/daria_pugacheva/google_landmark/input/train_delf1/d7c49a7983795a2a.delf'"
      ]
     },
     "execution_count": 160,
     "metadata": {},
     "output_type": "execute_result"
    }
   ],
   "source": [
    "#example of a vector after the bag of words method\n",
    "#take random *.delf file\n",
    "all_train_path[5]"
   ]
  },
  {
   "cell_type": "code",
   "execution_count": 161,
   "metadata": {},
   "outputs": [
    {
     "name": "stdout",
     "output_type": "stream",
     "text": [
      "['http://lh5.ggpht.com/-R9HmX9KNspk/TFVbax-IV3I/AAAAAAAAAlI/zScHvc1Ae9g/s1600/']\n"
     ]
    }
   ],
   "source": [
    "#take the link for the image for this *.delf file\n",
    "print(data[data.id == 'd7c49a7983795a2a' ].url.values)"
   ]
  },
  {
   "cell_type": "code",
   "execution_count": 122,
   "metadata": {
    "collapsed": true
   },
   "outputs": [],
   "source": [
    "from matplotlib import pyplot as plt\n",
    "\n",
    "%matplotlib inline"
   ]
  },
  {
   "cell_type": "code",
   "execution_count": 164,
   "metadata": {},
   "outputs": [
    {
     "data": {
      "image/png": "[encoded data removed]",
      "text/plain": [
       "<matplotlib.figure.Figure at 0x7f9b81229450>"
      ]
     },
     "metadata": {},
     "output_type": "display_data"
    }
   ],
   "source": [
    "plt.figure(figsize=(10,6))\n",
    "plt.hist(words_train[5], bins=40)\n",
    "plt.xlabel('centers')\n",
    "plt.ylabel('image points')\n",
    "plt.title('Bag of words')\n",
    "plt.show()"
   ]
  },
  {
   "cell_type": "code",
   "execution_count": null,
   "metadata": {
    "collapsed": true
   },
   "outputs": [],
   "source": []
  }
 ],
 "metadata": {
  "kernelspec": {
   "display_name": "Python 3",
   "language": "python",
   "name": "python3"
  },
  "language_info": {
   "codemirror_mode": {
    "name": "ipython",
    "version": 3
   },
   "file_extension": ".py",
   "mimetype": "text/x-python",
   "name": "python",
   "nbconvert_exporter": "python",
   "pygments_lexer": "ipython3",
   "version": "3.6.3"
  }
 },
 "nbformat": 4,
 "nbformat_minor": 2
}
