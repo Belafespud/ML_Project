{
 "cells": [
  {
   "cell_type": "code",
   "execution_count": 1,
   "metadata": {
    "collapsed": true
   },
   "outputs": [],
   "source": [
    "import numpy as np\n",
    "import pandas as pd\n",
    "import matplotlib.pyplot as plt\n",
    "import seaborn as sns\n",
    "%matplotlib inline "
   ]
  },
  {
   "cell_type": "code",
   "execution_count": 17,
   "metadata": {
    "collapsed": true
   },
   "outputs": [],
   "source": [
    "#read data\n",
    "train_data = pd.read_csv('train.csv')\n",
    "new_train_data = pd.read_csv('new_train.csv')\n",
    "test_data = pd.read_csv('test.csv')\n",
    "submission = pd.read_csv(\"sample_submission.csv\")"
   ]
  },
  {
   "cell_type": "code",
   "execution_count": 18,
   "metadata": {},
   "outputs": [
    {
     "name": "stdout",
     "output_type": "stream",
     "text": [
      "Training data size (1225029, 3)\n",
      "New training data size (250810, 4)\n",
      "test data size (117703, 2)\n"
     ]
    },
    {
     "data": {
      "text/html": [
       "<div>\n",
       "<style>\n",
       "    .dataframe thead tr:only-child th {\n",
       "        text-align: right;\n",
       "    }\n",
       "\n",
       "    .dataframe thead th {\n",
       "        text-align: left;\n",
       "    }\n",
       "\n",
       "    .dataframe tbody tr th {\n",
       "        vertical-align: top;\n",
       "    }\n",
       "</style>\n",
       "<table border=\"1\" class=\"dataframe\">\n",
       "  <thead>\n",
       "    <tr style=\"text-align: right;\">\n",
       "      <th></th>\n",
       "      <th>id</th>\n",
       "      <th>landmarks</th>\n",
       "    </tr>\n",
       "  </thead>\n",
       "  <tbody>\n",
       "    <tr>\n",
       "      <th>0</th>\n",
       "      <td>000088da12d664db</td>\n",
       "      <td>8815 0.03</td>\n",
       "    </tr>\n",
       "    <tr>\n",
       "      <th>1</th>\n",
       "      <td>0001623c6d808702</td>\n",
       "      <td>7249 0.61</td>\n",
       "    </tr>\n",
       "    <tr>\n",
       "      <th>2</th>\n",
       "      <td>0001bbb682d45002</td>\n",
       "      <td>5328 0.5</td>\n",
       "    </tr>\n",
       "    <tr>\n",
       "      <th>3</th>\n",
       "      <td>0002362830cfe3a3</td>\n",
       "      <td>4188 0.96</td>\n",
       "    </tr>\n",
       "    <tr>\n",
       "      <th>4</th>\n",
       "      <td>000270c9100de789</td>\n",
       "      <td>10506 0.82</td>\n",
       "    </tr>\n",
       "  </tbody>\n",
       "</table>\n",
       "</div>"
      ],
      "text/plain": [
       "                 id   landmarks\n",
       "0  000088da12d664db   8815 0.03\n",
       "1  0001623c6d808702   7249 0.61\n",
       "2  0001bbb682d45002    5328 0.5\n",
       "3  0002362830cfe3a3   4188 0.96\n",
       "4  000270c9100de789  10506 0.82"
      ]
     },
     "execution_count": 18,
     "metadata": {},
     "output_type": "execute_result"
    }
   ],
   "source": [
    "print(\"Training data size\",train_data.shape)\n",
    "print('New training data size',new_train_data.shape)\n",
    "print(\"test data size\",test_data.shape)\n",
    "submission.head()"
   ]
  },
  {
   "cell_type": "code",
   "execution_count": 19,
   "metadata": {},
   "outputs": [
    {
     "data": {
      "text/html": [
       "<div>\n",
       "<style>\n",
       "    .dataframe thead tr:only-child th {\n",
       "        text-align: right;\n",
       "    }\n",
       "\n",
       "    .dataframe thead th {\n",
       "        text-align: left;\n",
       "    }\n",
       "\n",
       "    .dataframe tbody tr th {\n",
       "        vertical-align: top;\n",
       "    }\n",
       "</style>\n",
       "<table border=\"1\" class=\"dataframe\">\n",
       "  <thead>\n",
       "    <tr style=\"text-align: right;\">\n",
       "      <th></th>\n",
       "      <th>id</th>\n",
       "      <th>url</th>\n",
       "      <th>landmark_id</th>\n",
       "    </tr>\n",
       "  </thead>\n",
       "  <tbody>\n",
       "    <tr>\n",
       "      <th>0</th>\n",
       "      <td>cacf8152e2d2ae60</td>\n",
       "      <td>http://static.panoramio.com/photos/original/70...</td>\n",
       "      <td>4676</td>\n",
       "    </tr>\n",
       "    <tr>\n",
       "      <th>1</th>\n",
       "      <td>0a58358a2afd3e4e</td>\n",
       "      <td>http://lh6.ggpht.com/-igpT6wu0mIA/ROV8HnUuABI/...</td>\n",
       "      <td>6651</td>\n",
       "    </tr>\n",
       "    <tr>\n",
       "      <th>2</th>\n",
       "      <td>6b2bb500b6a38aa0</td>\n",
       "      <td>http://lh6.ggpht.com/-vKr5G5MEusk/SR6r6SJi6mI/...</td>\n",
       "      <td>11284</td>\n",
       "    </tr>\n",
       "    <tr>\n",
       "      <th>3</th>\n",
       "      <td>b399f09dee9c3c67</td>\n",
       "      <td>https://lh3.googleusercontent.com/-LOW2cjAqubA...</td>\n",
       "      <td>8429</td>\n",
       "    </tr>\n",
       "    <tr>\n",
       "      <th>4</th>\n",
       "      <td>19ace29d77a5be66</td>\n",
       "      <td>https://lh5.googleusercontent.com/-tnmSXwQcWL8...</td>\n",
       "      <td>6231</td>\n",
       "    </tr>\n",
       "  </tbody>\n",
       "</table>\n",
       "</div>"
      ],
      "text/plain": [
       "                 id                                                url  \\\n",
       "0  cacf8152e2d2ae60  http://static.panoramio.com/photos/original/70...   \n",
       "1  0a58358a2afd3e4e  http://lh6.ggpht.com/-igpT6wu0mIA/ROV8HnUuABI/...   \n",
       "2  6b2bb500b6a38aa0  http://lh6.ggpht.com/-vKr5G5MEusk/SR6r6SJi6mI/...   \n",
       "3  b399f09dee9c3c67  https://lh3.googleusercontent.com/-LOW2cjAqubA...   \n",
       "4  19ace29d77a5be66  https://lh5.googleusercontent.com/-tnmSXwQcWL8...   \n",
       "\n",
       "   landmark_id  \n",
       "0         4676  \n",
       "1         6651  \n",
       "2        11284  \n",
       "3         8429  \n",
       "4         6231  "
      ]
     },
     "execution_count": 19,
     "metadata": {},
     "output_type": "execute_result"
    }
   ],
   "source": [
    "train_data.head()"
   ]
  },
  {
   "cell_type": "code",
   "execution_count": 20,
   "metadata": {},
   "outputs": [
    {
     "data": {
      "text/html": [
       "<div>\n",
       "<style>\n",
       "    .dataframe thead tr:only-child th {\n",
       "        text-align: right;\n",
       "    }\n",
       "\n",
       "    .dataframe thead th {\n",
       "        text-align: left;\n",
       "    }\n",
       "\n",
       "    .dataframe tbody tr th {\n",
       "        vertical-align: top;\n",
       "    }\n",
       "</style>\n",
       "<table border=\"1\" class=\"dataframe\">\n",
       "  <thead>\n",
       "    <tr style=\"text-align: right;\">\n",
       "      <th></th>\n",
       "      <th>id</th>\n",
       "      <th>url</th>\n",
       "      <th>landmark_id</th>\n",
       "    </tr>\n",
       "  </thead>\n",
       "  <tbody>\n",
       "    <tr>\n",
       "      <th>0</th>\n",
       "      <td>775f9f71f0eb2300</td>\n",
       "      <td>https://lh3.googleusercontent.com/-dBd90XSEK_s...</td>\n",
       "      <td>4638</td>\n",
       "    </tr>\n",
       "    <tr>\n",
       "      <th>1</th>\n",
       "      <td>48cfe8e287326153</td>\n",
       "      <td>https://lh5.googleusercontent.com/-pGiva-OhD_Y...</td>\n",
       "      <td>11139</td>\n",
       "    </tr>\n",
       "    <tr>\n",
       "      <th>2</th>\n",
       "      <td>eb9817a6d8f31d6a</td>\n",
       "      <td>http://lh5.ggpht.com/-iZ-llS7AlaY/SIwzn_zZU5I/...</td>\n",
       "      <td>6051</td>\n",
       "    </tr>\n",
       "    <tr>\n",
       "      <th>3</th>\n",
       "      <td>38f6b5ee91b46361</td>\n",
       "      <td>http://lh4.ggpht.com/-9WtalDcCZsU/RfKTGvQzSuI/...</td>\n",
       "      <td>12571</td>\n",
       "    </tr>\n",
       "    <tr>\n",
       "      <th>4</th>\n",
       "      <td>1aebc94ed4be585f</td>\n",
       "      <td>http://mw2.google.com/mw-panoramio/photos/medi...</td>\n",
       "      <td>5754</td>\n",
       "    </tr>\n",
       "  </tbody>\n",
       "</table>\n",
       "</div>"
      ],
      "text/plain": [
       "                 id                                                url  \\\n",
       "0  775f9f71f0eb2300  https://lh3.googleusercontent.com/-dBd90XSEK_s...   \n",
       "1  48cfe8e287326153  https://lh5.googleusercontent.com/-pGiva-OhD_Y...   \n",
       "2  eb9817a6d8f31d6a  http://lh5.ggpht.com/-iZ-llS7AlaY/SIwzn_zZU5I/...   \n",
       "3  38f6b5ee91b46361  http://lh4.ggpht.com/-9WtalDcCZsU/RfKTGvQzSuI/...   \n",
       "4  1aebc94ed4be585f  http://mw2.google.com/mw-panoramio/photos/medi...   \n",
       "\n",
       "   landmark_id  \n",
       "0         4638  \n",
       "1        11139  \n",
       "2         6051  \n",
       "3        12571  \n",
       "4         5754  "
      ]
     },
     "execution_count": 20,
     "metadata": {},
     "output_type": "execute_result"
    }
   ],
   "source": [
    "new_train_data.drop('Unnamed: 0', axis=1, inplace=True)\n",
    "new_train_data.head()"
   ]
  },
  {
   "cell_type": "code",
   "execution_count": 33,
   "metadata": {},
   "outputs": [
    {
     "data": {
      "text/plain": [
       "14951"
      ]
     },
     "execution_count": 33,
     "metadata": {},
     "output_type": "execute_result"
    }
   ],
   "source": [
    "#number of classes\n",
    "len(train_data['landmark_id'].value_counts())"
   ]
  },
  {
   "cell_type": "code",
   "execution_count": 32,
   "metadata": {},
   "outputs": [
    {
     "data": {
      "text/plain": [
       "14951"
      ]
     },
     "execution_count": 32,
     "metadata": {},
     "output_type": "execute_result"
    }
   ],
   "source": [
    "#number of classes after selection\n",
    "len(new_train_data['landmark_id'].value_counts())"
   ]
  },
  {
   "cell_type": "code",
   "execution_count": 40,
   "metadata": {},
   "outputs": [
    {
     "data": {
      "image/png": "[encoded data removed]",
      "text/plain": [
       "<matplotlib.figure.Figure at 0x7fb2acdf6d30>"
      ]
     },
     "metadata": {},
     "output_type": "display_data"
    }
   ],
   "source": [
    "f, ax = plt.subplots(nrows=1, ncols=2, sharey=True, sharex=True, figsize = (15, 7))\n",
    "\n",
    "ax[0].set_title('Old Category Distribuition')\n",
    "ax[1].set_title('New Category Distribuition')\n",
    "sns.distplot(train_data['landmark_id'], ax=ax[0])\n",
    "sns.distplot(new_train_data['landmark_id'], ax=ax[1])\n",
    "\n",
    "plt.show()"
   ]
  },
  {
   "cell_type": "code",
   "execution_count": 82,
   "metadata": {},
   "outputs": [
    {
     "data": {
      "text/plain": [
       "array(['http://lh3.ggpht.com/-Urz7MkJrk8I/SPJNveofYrI/AAAAAAAAAqo/lRlO6lTSuQo/s1600/',\n",
       "       'https://lh3.googleusercontent.com/-AuNF1SMiiPw/S312N3ZuW_I/AAAAAAAAB8M/2uibeFFfpG8/rj/'],\n",
       "      dtype=object)"
      ]
     },
     "execution_count": 82,
     "metadata": {},
     "output_type": "execute_result"
    }
   ],
   "source": [
    "#url examples\n",
    "urls.values[:2]"
   ]
  },
  {
   "cell_type": "code",
   "execution_count": 87,
   "metadata": {
    "collapsed": true
   },
   "outputs": [],
   "source": [
    "from IPython.display import Image\n",
    "from IPython.core.display import HTML \n",
    "\n",
    "def display_category(urls, category_name):\n",
    "    img_style = \"width: 300px; margin: 0px; float: left; border: 1px solid black;\"\n",
    "    images_list = ''.join([f\"<img style='{img_style}' src='{u}' />\" for _, u in urls.head(12).iteritems()])\n",
    "\n",
    "    display(HTML(images_list))"
   ]
  },
  {
   "cell_type": "code",
   "execution_count": 88,
   "metadata": {},
   "outputs": [
    {
     "data": {
      "text/html": [
       "<img style='width: 300px; margin: 0px; float: left; border: 1px solid black;' src='http://lh3.ggpht.com/-Urz7MkJrk8I/SPJNveofYrI/AAAAAAAAAqo/lRlO6lTSuQo/s1600/' /><img style='width: 300px; margin: 0px; float: left; border: 1px solid black;' src='https://lh3.googleusercontent.com/-AuNF1SMiiPw/S312N3ZuW_I/AAAAAAAAB8M/2uibeFFfpG8/rj/' /><img style='width: 300px; margin: 0px; float: left; border: 1px solid black;' src='https://lh5.googleusercontent.com/-jRq6mik6NyU/STW8wK6TiXI/AAAAAAAABh4/EVlYlwnRemQ/s1600/' /><img style='width: 300px; margin: 0px; float: left; border: 1px solid black;' src='https://lh4.googleusercontent.com/-KscQGXnulOU/TNXNku2gSPI/AAAAAAAADIg/XS1kcoyMWT8/s1600/' /><img style='width: 300px; margin: 0px; float: left; border: 1px solid black;' src='https://lh4.googleusercontent.com/-LkJtFmGGatE/TE99ho3qKgI/AAAAAAAACmw/dkxV8C7HmmU/s1600/' /><img style='width: 300px; margin: 0px; float: left; border: 1px solid black;' src='https://lh4.googleusercontent.com/-DzeJu2RgKgE/TQ0HD4BL3_I/AAAAAAAABJI/nXZTNJjPIHQ/s1600/' /><img style='width: 300px; margin: 0px; float: left; border: 1px solid black;' src='https://lh3.googleusercontent.com/-SdZvs-jjIEc/SkAmDMbOwNI/AAAAAAAAAvE/gs5VbI3T1Fc/s1600/' /><img style='width: 300px; margin: 0px; float: left; border: 1px solid black;' src='https://lh3.googleusercontent.com/-Z-TdH92XiS4/Tps3gfnSb5I/AAAAAAAAAhg/zhq5bQEjYSM/w126-h126-p/' /><img style='width: 300px; margin: 0px; float: left; border: 1px solid black;' src='https://lh5.googleusercontent.com/-CrUpYN7IU40/TNFvemqN8uI/AAAAAAAAAXU/NlHNggA2sbs/s1600/' /><img style='width: 300px; margin: 0px; float: left; border: 1px solid black;' src='https://lh6.googleusercontent.com/-UfNJT9eIxaw/R3-p_IzG1TI/AAAAAAAAAt0/xF-gvgLBcn0/rj/' /><img style='width: 300px; margin: 0px; float: left; border: 1px solid black;' src='https://lh3.googleusercontent.com/-xkNAsClfEp8/ToAGU8eb6uI/AAAAAAAACXA/4XZecxM3034/s1600/' /><img style='width: 300px; margin: 0px; float: left; border: 1px solid black;' src='http://lh6.ggpht.com/-nCP-oQhaI78/Sfyq7V5Me9I/AAAAAAAAA8Q/NXNowcVq86U/s1600/' />"
      ],
      "text/plain": [
       "<IPython.core.display.HTML object>"
      ]
     },
     "metadata": {},
     "output_type": "display_data"
    }
   ],
   "source": [
    "#examples from the random category\n",
    "category = new_train_data['landmark_id'].value_counts().keys()[0]\n",
    "urls = new_train_data[new_train_data['landmark_id'] == category]['url']\n",
    "display_category(urls, \"\")"
   ]
  },
  {
   "cell_type": "code",
   "execution_count": 74,
   "metadata": {},
   "outputs": [
    {
     "data": {
      "text/plain": [
       "'http://lh3.ggpht.com/-Urz7MkJrk8I/SPJNveofYrI/AAAAAAAAAqo/lRlO6lTSuQo/s1600/'"
      ]
     },
     "execution_count": 74,
     "metadata": {},
     "output_type": "execute_result"
    }
   ],
   "source": [
    "urls.head(12).values[0]"
   ]
  },
  {
   "cell_type": "code",
   "execution_count": 75,
   "metadata": {},
   "outputs": [
    {
     "data": {
      "text/html": [
       "<img style='width: 480px; margin: 0px; float: left; border: 1px solid black;' src='http://lh3.ggpht.com/-Urz7MkJrk8I/SPJNveofYrI/AAAAAAAAAqo/lRlO6lTSuQo/s1600/' /><img style='width: 480px; margin: 0px; float: left; border: 1px solid black;' src='http://lh3.ggpht.com/-Urz7MkJrk8I/SPJNveofYrI/AAAAAAAAAqo/lRlO6lTSuQo/s640/' />"
      ],
      "text/plain": [
       "<IPython.core.display.HTML object>"
      ]
     },
     "metadata": {},
     "output_type": "display_data"
    }
   ],
   "source": [
    "#images in different quality\n",
    "img_style = \"width: 480px; margin: 0px; float: left; border: 1px solid black;\"\n",
    "images_list = ''.join([f\"<img style='{img_style}' src='{u}' />\" for u in [urls.values[0], urls.head(12).values[0][:-6]+'s640/']])\n",
    "\n",
    "display(HTML(images_list))"
   ]
  },
  {
   "cell_type": "code",
   "execution_count": 76,
   "metadata": {},
   "outputs": [
    {
     "data": {
      "text/html": [
       "<img style='width: 480px; margin: 0px; float: left; border: 1px solid black;' src='http://lh3.ggpht.com/-Urz7MkJrk8I/SPJNveofYrI/AAAAAAAAAqo/lRlO6lTSuQo/s1600/' /><img style='width: 480px; margin: 0px; float: left; border: 1px solid black;' src='http://lh3.ggpht.com/-Urz7MkJrk8I/SPJNveofYrI/AAAAAAAAAqo/lRlO6lTSuQo/s320/' />"
      ],
      "text/plain": [
       "<IPython.core.display.HTML object>"
      ]
     },
     "metadata": {},
     "output_type": "display_data"
    }
   ],
   "source": [
    "img_style = \"width: 480px; margin: 0px; float: left; border: 1px solid black;\"\n",
    "images_list = ''.join([f\"<img style='{img_style}' src='{u}' />\" for u in [urls.values[0], urls.head(12).values[0][:-6]+'s320/']])\n",
    "\n",
    "display(HTML(images_list))"
   ]
  },
  {
   "cell_type": "code",
   "execution_count": 80,
   "metadata": {},
   "outputs": [
    {
     "data": {
      "text/html": [
       "<img style='width: 480px; margin: 0px; float: left; border: 1px solid black;' src='http://lh3.ggpht.com/-Urz7MkJrk8I/SPJNveofYrI/AAAAAAAAAqo/lRlO6lTSuQo/s1600/' /><img style='width: 480px; margin: 0px; float: left; border: 1px solid black;' src='http://lh3.ggpht.com/-Urz7MkJrk8I/SPJNveofYrI/AAAAAAAAAqo/lRlO6lTSuQo/s128/' />"
      ],
      "text/plain": [
       "<IPython.core.display.HTML object>"
      ]
     },
     "metadata": {},
     "output_type": "display_data"
    }
   ],
   "source": [
    "img_style = \"width: 480px; margin: 0px; float: left; border: 1px solid black;\"\n",
    "images_list = ''.join([f\"<img style='{img_style}' src='{u}' />\" for u in [urls.values[0], urls.values[0][:-6]+'s128/']])\n",
    "\n",
    "display(HTML(images_list))"
   ]
  },
  {
   "cell_type": "code",
   "execution_count": null,
   "metadata": {
    "collapsed": true
   },
   "outputs": [],
   "source": []
  }
 ],
 "metadata": {
  "kernelspec": {
   "display_name": "Python 3",
   "language": "python",
   "name": "python3"
  },
  "language_info": {
   "codemirror_mode": {
    "name": "ipython",
    "version": 3
   },
   "file_extension": ".py",
   "mimetype": "text/x-python",
   "name": "python",
   "nbconvert_exporter": "python",
   "pygments_lexer": "ipython3",
   "version": "3.6.3"
  }
 },
 "nbformat": 4,
 "nbformat_minor": 2
}
